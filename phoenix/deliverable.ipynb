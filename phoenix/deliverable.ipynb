{
 "cells": [
  {
   "cell_type": "markdown",
   "id": "884427c3",
   "metadata": {},
   "source": [
    "# Deliverable\n",
    "\n",
    "This notebook is adapted from `quickstart_local.ipynb` and contains the following modifications:"
   ]
  },
  {
   "cell_type": "code",
   "execution_count": null,
   "id": "291b1715",
   "metadata": {},
   "outputs": [
    {
     "name": "stdout",
     "output_type": "stream",
     "text": [
      "The autoreload extension is already loaded. To reload it, use:\n",
      "  %reload_ext autoreload\n"
     ]
    }
   ],
   "source": [
    "%load_ext autoreload\n",
    "%autoreload 2\n",
    "\n",
    "import os\n",
    "os.environ['CUDA_VISIBLE_DEVICES'] = '4' # Set to the index of the GPU you want to use; see visible GPUs with `nvidia-smi` on command line\n",
    "\n",
    "import numpy as np\n",
    "import pandas as pd\n",
    "from sklearn.model_selection import train_test_split\n",
    "\n",
    "from hypothesaes.quickstart import train_sae, interpret_sae, generate_hypotheses, evaluate_hypotheses\n",
    "from hypothesaes.embedding import get_local_embeddings\n",
    "from hypothesaes.llm_local import get_vllm_engine"
   ]
  },
  {
   "cell_type": "markdown",
   "id": "073234cd",
   "metadata": {},
   "source": [
    "## Datasets\n",
    "The two datasets I will be using is [Twitter Tweet Sentiments (27.5k)](https://www.kaggle.com/datasets/yasserh/twitter-tweets-sentiment-dataset), a collection of 27,481 tweets and the associated sentiments. 2748 of these tweets are used for validation during SAE training and 2748 tweets used for holdout evaluation. The target variable is the `sentiment` column, which can be `negative`, `neutral`, or `positive` and we are interested in seeing what features of the `text` column predict it."
   ]
  },
  {
   "cell_type": "code",
   "execution_count": 14,
   "id": "f6fccc69",
   "metadata": {},
   "outputs": [
    {
     "data": {
      "text/html": [
       "<div>\n",
       "<style scoped>\n",
       "    .dataframe tbody tr th:only-of-type {\n",
       "        vertical-align: middle;\n",
       "    }\n",
       "\n",
       "    .dataframe tbody tr th {\n",
       "        vertical-align: top;\n",
       "    }\n",
       "\n",
       "    .dataframe thead th {\n",
       "        text-align: right;\n",
       "    }\n",
       "</style>\n",
       "<table border=\"1\" class=\"dataframe\">\n",
       "  <thead>\n",
       "    <tr style=\"text-align: right;\">\n",
       "      <th></th>\n",
       "      <th>textID</th>\n",
       "      <th>text</th>\n",
       "      <th>selected_text</th>\n",
       "      <th>sentiment</th>\n",
       "    </tr>\n",
       "  </thead>\n",
       "  <tbody>\n",
       "    <tr>\n",
       "      <th>16604</th>\n",
       "      <td>9efc18dfd9</td>\n",
       "      <td>watching a movie and rocking my baby kitty who...</td>\n",
       "      <td>watching a movie and rocking my baby kitty who...</td>\n",
       "      <td>positive</td>\n",
       "    </tr>\n",
       "    <tr>\n",
       "      <th>11293</th>\n",
       "      <td>7aef27c516</td>\n",
       "      <td>Doctor Who has finished</td>\n",
       "      <td>Doctor Who has finished</td>\n",
       "      <td>neutral</td>\n",
       "    </tr>\n",
       "    <tr>\n",
       "      <th>11299</th>\n",
       "      <td>415660cb0e</td>\n",
       "      <td>you should.</td>\n",
       "      <td>you should.</td>\n",
       "      <td>neutral</td>\n",
       "    </tr>\n",
       "    <tr>\n",
       "      <th>18204</th>\n",
       "      <td>4fdc228bbe</td>\n",
       "      <td>back at school again. almost weekend. oh wait,...</td>\n",
       "      <td>back at school again. almost weekend. oh wait,...</td>\n",
       "      <td>neutral</td>\n",
       "    </tr>\n",
       "    <tr>\n",
       "      <th>22728</th>\n",
       "      <td>ea91e5a7ab</td>\n",
       "      <td>My computer is SO slooowww this morning.  I th...</td>\n",
       "      <td>My computer is SO slooowww this morning.  I th...</td>\n",
       "      <td>neutral</td>\n",
       "    </tr>\n",
       "  </tbody>\n",
       "</table>\n",
       "</div>"
      ],
      "text/plain": [
       "           textID                                               text  \\\n",
       "16604  9efc18dfd9  watching a movie and rocking my baby kitty who...   \n",
       "11293  7aef27c516                            Doctor Who has finished   \n",
       "11299  415660cb0e                                        you should.   \n",
       "18204  4fdc228bbe  back at school again. almost weekend. oh wait,...   \n",
       "22728  ea91e5a7ab  My computer is SO slooowww this morning.  I th...   \n",
       "\n",
       "                                           selected_text sentiment  \n",
       "16604  watching a movie and rocking my baby kitty who...  positive  \n",
       "11293                            Doctor Who has finished   neutral  \n",
       "11299                                        you should.   neutral  \n",
       "18204  back at school again. almost weekend. oh wait,...   neutral  \n",
       "22728  My computer is SO slooowww this morning.  I th...   neutral  "
      ]
     },
     "execution_count": 14,
     "metadata": {},
     "output_type": "execute_result"
    }
   ],
   "source": [
    "current_dir = os.getcwd()\n",
    "assert current_dir.endswith(\"phoenix\")\n",
    "\n",
    "base_dir = os.path.join(\"data\")\n",
    "df = pd.read_csv(os.path.join(base_dir, \"Tweets.csv\"))\n",
    "\n",
    "train_df, val_df = train_test_split(df, test_size=2748*2, train_size=21984, random_state=42)\n",
    "val_df_SAE, val_df_holdout = train_test_split(val_df, test_size=2748, train_size=2748, random_state=42)\n",
    "\n",
    "train_df.head(5)"
   ]
  },
  {
   "cell_type": "code",
   "execution_count": null,
   "id": "c0a5a7c5",
   "metadata": {},
   "outputs": [],
   "source": []
  }
 ],
 "metadata": {
  "kernelspec": {
   "display_name": "HSAEs",
   "language": "python",
   "name": "python3"
  },
  "language_info": {
   "codemirror_mode": {
    "name": "ipython",
    "version": 3
   },
   "file_extension": ".py",
   "mimetype": "text/x-python",
   "name": "python",
   "nbconvert_exporter": "python",
   "pygments_lexer": "ipython3",
   "version": "3.11.13"
  }
 },
 "nbformat": 4,
 "nbformat_minor": 5
}
